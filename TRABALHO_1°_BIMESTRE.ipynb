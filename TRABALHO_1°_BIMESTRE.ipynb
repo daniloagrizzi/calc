{
  "nbformat": 4,
  "nbformat_minor": 0,
  "metadata": {
    "colab": {
      "provenance": [],
      "include_colab_link": true
    },
    "kernelspec": {
      "name": "python3",
      "display_name": "Python 3"
    }
  },
  "cells": [
    {
      "cell_type": "markdown",
      "metadata": {
        "id": "view-in-github",
        "colab_type": "text"
      },
      "source": [
        "<a href=\"https://colab.research.google.com/github/daniloagrizzi/calc/blob/main/TRABALHO_1%C2%B0_BIMESTRE.ipynb\" target=\"_parent\"><img src=\"https://colab.research.google.com/assets/colab-badge.svg\" alt=\"Open In Colab\"/></a>"
      ]
    },
    {
      "cell_type": "markdown",
      "metadata": {
        "id": "G90zxY79qIXe"
      },
      "source": [
        "<html>\n",
        "  <body>\n",
        "    <header></header>\n",
        "        <CENTER>\n",
        "          <img src=\"https://uvv.br/wp-content/themes/uvvBr/templates/assets//img/logouvv.svg\" alt=\"UVV-LOGO\" style = width=\"100px\"; height=\"100px\">\n",
        "        </CENTER>\n",
        "        <CENTER><b>Laboratório de Programação - PYTHON</b></CENTER>\n",
        "        <CENTER><b>Prof.: Alessandro Bertolani Oliveira</b>\n",
        "        <CENTER><b>TRABALHO 1° BIMESTRE</b></CENTER><br/>"
      ]
    },
    {
      "cell_type": "markdown",
      "metadata": {
        "id": "XqwNMjGLhqXV"
      },
      "source": [
        "**NOME:** DANILO AGRIZZI"
      ]
    },
    {
      "cell_type": "markdown",
      "source": [
        "Meu link: https://colab.research.google.com/drive/16h0X7TC97J-EdwRXT--oEAW_PCu_SSny?usp=sharing#scrollTo=LRiyZFMtiD14"
      ],
      "metadata": {
        "id": "LRiyZFMtiD14"
      }
    },
    {
      "cell_type": "markdown",
      "metadata": {
        "id": "Bnhc9WsIrwq5"
      },
      "source": [
        "CRIAR / COMPARTILHAR AQUI UM LINK PARA SEU PRÓPRIO NOTEBOOK COLAB: [Clique Aqui!](https://)"
      ]
    },
    {
      "cell_type": "markdown",
      "metadata": {
        "id": "yZfJjeQgqTo_"
      },
      "source": [
        "# O que vamos Praticar:"
      ]
    },
    {
      "cell_type": "markdown",
      "source": [
        "#$\\longmapsto$ <b>ESTRUTURAS DE CONTROLE - REPETIÇÃO: </b><b> FOR / IN RANGE / WHILE / BREAK </b>"
      ],
      "metadata": {
        "id": "XNUCiKwuFRkQ"
      }
    },
    {
      "cell_type": "markdown",
      "metadata": {
        "id": "u0MPOSPAhOp3"
      },
      "source": [
        "Fazer dois (2) exercícios de Repetição da lista, conforme sorteio"
      ]
    },
    {
      "cell_type": "code",
      "metadata": {
        "id": "oWIKx1YThWWk"
      },
      "source": [
        "# NÚMERO SORTEADO 17\n",
        "menor_numero = float('inf')\n",
        "\n",
        "\n",
        "try:\n",
        " while True:\n",
        "    numero = int(input('Digite um número: '))\n",
        "    if numero < menor_numero:\n",
        "        menor_numero = numero\n",
        "    if numero <= 0:\n",
        "        break\n",
        "\n",
        " print(f'O menor número digitado foi {menor_numero}')\n",
        "\n",
        "except ValueError: print(\"Valor inesperado\")"
      ],
      "execution_count": null,
      "outputs": []
    },
    {
      "cell_type": "code",
      "metadata": {
        "id": "YeHmVeRihWn9"
      },
      "source": [
        "# NÚMERO SORTEADO 28\n",
        "import math\n",
        "try:\n",
        "  S = math.pi\n",
        "  M = 1\n",
        "  n = int(input('Enter a number: '))\n",
        "  if n >= 1:\n",
        "    for i in range(1,n+1):\n",
        "     S += math.pi/(i*2)\n",
        "     M *= ((i*2)-1)/math.pi\n",
        "    print(f'o valor da som0a eh e o da multiplicacao eh {S,M}')\n",
        "  else: print(f'O valor de n deve ser maior que 0')\n",
        "except ValueError: print('Algo deu errado')"
      ],
      "execution_count": null,
      "outputs": []
    },
    {
      "cell_type": "markdown",
      "source": [
        "#$\\longmapsto$ <b>MODULARIZAÇÃO: </b><b> def</b>"
      ],
      "metadata": {
        "id": "8sMo8drzBy9R"
      }
    },
    {
      "cell_type": "markdown",
      "metadata": {
        "id": "nrUtgE29hcFJ"
      },
      "source": [
        "Fazer quantro (4) exercícios de modularização da lista, conforme sorteio."
      ]
    },
    {
      "cell_type": "code",
      "metadata": {
        "id": "eVqiRk4Zhg51"
      },
      "source": [
        "# NÚMERO SORTEADO 3\n",
        "import math\n",
        "def arranjo(n, p):\n",
        "       return  math.factorial(n) / math.factorial((n - p))\n",
        "\n",
        "def combinacao(n,p):\n",
        "    return  math.factorial(n) / math.factorial((n - p))/math.factorial(p)\n",
        "\n",
        "\n",
        "try:\n",
        "     n = int(input(\"Digite o valor de n (>=0): \"))\n",
        "     p = int(input(\"Digite o valor de p (>=0 e <=n): \"))\n",
        "     if n >= 0 and p >= 0 and n >= p:\n",
        "      print(\"Arranjo de\", n, \"elementos tomados\", p, \"a\", p, \":\", arranjo(n, p))\n",
        "      print(\"Combinação de\", n, \"elementos tomados\", p, \"a\", p, \":\", combinacao(n, p))\n",
        "     else: print(\"Valores inválidos! Certifique-se de que n >= 0, p >= 0 e n >= p.\")\n",
        "\n",
        "except ValueError: print(\"Algo deu errado\")\n"
      ],
      "execution_count": null,
      "outputs": []
    },
    {
      "cell_type": "code",
      "metadata": {
        "id": "eJUVmbPthhFU"
      },
      "source": [
        "# NÚMERO SORTEADO 7\n",
        "def calculadora(numero1, numero2, operador):\n",
        "    if operador == 1:\n",
        "        return numero1 + numero2\n",
        "    elif operador == 2:\n",
        "        return numero1 - numero2\n",
        "    elif operador == 3:\n",
        "        return numero1 * numero2\n",
        "    elif operador == 4:\n",
        "        if numero2 != 0:\n",
        "            return numero1 // numero2\n",
        "        else:\n",
        "            return \"nao se pode dividir por 0!\"\n",
        "    elif operador == 5:\n",
        "        return numero1 % numero2\n",
        "    elif operador == 6:\n",
        "        if numero2 != 0:\n",
        "            return numero1 // numero2\n",
        "        else:\n",
        "            return \"nao se pode dividir por 0!\"\n",
        "    else:\n",
        "        return \"Operador inválido!\"\n",
        "\n",
        "\n",
        "print(\"Bem-vindo à mini calculadora!\")\n",
        "for _ in range(100):\n",
        "    try:\n",
        "        numero1 = int(input(\"Digite o primeiro número inteiro: \"))\n",
        "        numero2 = int(input(\"Digite o segundo número inteiro: \"))\n",
        "        operador = int(\n",
        "            input(\"Digite o operador (1: Soma, 2: Subtração, 3: Multiplicação, 4: Divisão, 5: MOD, 6: DIV): \"))\n",
        "\n",
        "        resultado = calculadora(numero1, numero2, operador)\n",
        "        print(\"Resultado:\", resultado)\n",
        "    except ValueError:\n",
        "        print(\"Entrada inválida! Certifique-se de inserir números inteiros.\")\n",
        "    except ZeroDivisionError:\n",
        "        print(\"Erro: divisão por zero.\")\n",
        "    except Exception as e:\n",
        "        print(\"Ocorreu um erro:\", e)\n"
      ],
      "execution_count": null,
      "outputs": []
    },
    {
      "cell_type": "code",
      "metadata": {
        "id": "9T_EFvmShyp8"
      },
      "source": [
        "# NÚMERO SORTEADO 8\n",
        "def fibonacci(n):\n",
        "    fi = [1, 1]\n",
        "    for i in range(2, n):\n",
        "        fi.append(fi[-1] + fi[-2])\n",
        "    return fi[:n]\n",
        "\n",
        "try:\n",
        "    n = int(input(\"Insira o valor de n: \"))\n",
        "    fib_list = fibonacci(n)\n",
        "    print(\"Lista de Fibonacci:\", fib_list)\n",
        "    soma = sum(fib_list)\n",
        "    print(\"Somatório dos valores da lista de Fibonacci:\", soma)\n",
        "except ValueError:\n",
        "    print('Algo deu errado')\n"
      ],
      "execution_count": null,
      "outputs": []
    },
    {
      "cell_type": "code",
      "metadata": {
        "id": "jC86EfG_hyzF"
      },
      "source": [
        "# NÚMERO SORTEADO 10\n",
        "def mini_calculadora(numero1, numero2, operador):\n",
        "    if operador == 1:\n",
        "        return numero1 + numero2\n",
        "    elif operador == 2:\n",
        "        return numero1 - numero2\n",
        "    elif operador == 3:\n",
        "        return numero1 * numero2\n",
        "    elif operador == 4:\n",
        "        try:\n",
        "            if numero2 != 0:\n",
        "                return numero1 / numero2\n",
        "            else:\n",
        "                return \"Não é possível dividir por zero!\"\n",
        "        except ZeroDivisionError:\n",
        "            return \"Não é !\"\n",
        "    elif operador == 5:\n",
        "        return numero1 % numero2\n",
        "    elif operador == 6:\n",
        "        try:\n",
        "            if numero2 != 0:\n",
        "                return numero1 // numero2\n",
        "            else:\n",
        "                return \"Não é possível dividir por zero!\"\n",
        "        except ZeroDivisionError:\n",
        "            return \"Não é possível dividir por zero!\"\n",
        "    else:\n",
        "        return \"Operador inválido!\"\n",
        "\n",
        "\n",
        "def fibonacci_somatorio(n):\n",
        "    soma = 0\n",
        "    a, b = 0, 1\n",
        "    for _ in range(n):\n",
        "        soma += a\n",
        "        a, b = b, a + b\n",
        "    return soma\n",
        "\n",
        "\n",
        "def calcular_reajuste(preco, percentual):\n",
        "    reajuste = preco * (percentual / 100)\n",
        "    novo_preco = preco + reajuste\n",
        "    return novo_preco, reajuste\n",
        "\n",
        "\n",
        "while True:\n",
        "    print(\"Escolha uma opção:\")\n",
        "    print(\"1: Mini Calculadora\")\n",
        "    print(\"2: Somatório dos n primeiros termos da série de Fibonacci\")\n",
        "    print(\"3: Reajuste de preço de mercadorias\")\n",
        "    print(\"0: Sair\")\n",
        "    escolha = input(\"Digite o número correspondente à opção desejada: \")\n",
        "\n",
        "    if escolha == '1':\n",
        "        numero1 = int(input(\"Digite o primeiro número inteiro: \"))\n",
        "        numero2 = int(input(\"Digite o segundo número inteiro: \"))\n",
        "        operador = int(\n",
        "            input(\"Digite o operador (1: Soma, 2: Subtração, 3: Multiplicação, 4: Divisão, 5: MOD, 6: DIV): \"))\n",
        "        try:\n",
        "            resultado = mini_calculadora(numero1, numero2, operador)\n",
        "            print(\"Resultado:\", resultado)\n",
        "        except ValueError:\n",
        "            print(\"Entrada inválida! Certifique-se de inserir números inteiros.\")\n",
        "\n",
        "    elif escolha == '2':\n",
        "        n = int(input(\"Digite o valor de n: \"))\n",
        "        somatorio_fibonacci = fibonacci_somatorio(n)\n",
        "        print(\"Somatório dos\", n, \"primeiros termos da série de Fibonacci:\", somatorio_fibonacci)\n",
        "\n",
        "    elif escolha == '3':\n",
        "        preco = float(input(\"Digite o preço da mercadoria: \"))\n",
        "        percentual = float(input(\"Digite o percentual de reajuste: \"))\n",
        "        novo_preco, reajuste = calcular_reajuste(preco, percentual)\n",
        "        print(\"Novo preço:\", novo_preco)\n",
        "        print(\"Reajuste em reais:\", reajuste)\n",
        "\n",
        "    elif escolha == '0':\n",
        "        break\n",
        "\n",
        "    else:\n",
        "        print(\"Opção inválida! Por favor, escolha uma opção válida.\")"
      ],
      "execution_count": null,
      "outputs": []
    }
  ]
}